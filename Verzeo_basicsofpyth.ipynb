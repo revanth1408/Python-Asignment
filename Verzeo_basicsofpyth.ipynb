{
  "nbformat": 4,
  "nbformat_minor": 0,
  "metadata": {
    "colab": {
      "name": "Verzeo basicsofpyth.ipynb",
      "provenance": [],
      "collapsed_sections": [],
      "authorship_tag": "ABX9TyOb0+dmNltrdP6crqI1sDzV",
      "include_colab_link": true
    },
    "kernelspec": {
      "name": "python3",
      "display_name": "Python 3"
    },
    "language_info": {
      "name": "python"
    }
  },
  "cells": [
    {
      "cell_type": "markdown",
      "metadata": {
        "id": "view-in-github",
        "colab_type": "text"
      },
      "source": [
        "<a href=\"https://colab.research.google.com/github/revanth1408/Python-Asignment/blob/main/Verzeo_basicsofpyth.ipynb\" target=\"_parent\"><img src=\"https://colab.research.google.com/assets/colab-badge.svg\" alt=\"Open In Colab\"/></a>"
      ]
    },
    {
      "cell_type": "markdown",
      "metadata": {
        "id": "KSw8wxpwu6pB"
      },
      "source": [
        "1. Write a python script to concatenate the following dictionaries to create a new one\n",
        "\n",
        "Sample Dictionary:\n",
        "dic1={1:10,2:20}\n",
        "dic2={3:30,4:40}\n",
        "dic3={5:50,6:60}"
      ]
    },
    {
      "cell_type": "code",
      "metadata": {
        "colab": {
          "base_uri": "https://localhost:8080/"
        },
        "id": "lKCRLWN7uwLm",
        "outputId": "353a2d1f-a8c6-4402-eadc-8e99a1aa9efc"
      },
      "source": [
        "dic1={1:10,2:20}\n",
        "dic2={3:30,4:40}\n",
        "dic3={5:50,6:60}\n",
        "dic4 = {}\n",
        "for d in (dic1, dic2, dic3): dic4.update(d)\n",
        "print(dic4)"
      ],
      "execution_count": null,
      "outputs": [
        {
          "output_type": "stream",
          "text": [
            "{1: 10, 2: 20, 3: 30, 4: 40, 5: 50, 6: 60}\n"
          ],
          "name": "stdout"
        }
      ]
    },
    {
      "cell_type": "markdown",
      "metadata": {
        "id": "d6yO9zO0w55l"
      },
      "source": [
        "write a python script to  check if a given key already exists in a dictionary "
      ]
    },
    {
      "cell_type": "code",
      "metadata": {
        "colab": {
          "base_uri": "https://localhost:8080/"
        },
        "id": "WbjdOcQ6vtT-",
        "outputId": "d55b5b1e-2a1f-4333-9672-fc699fca4766"
      },
      "source": [
        "d={1: 10, 2: 20, 3: 30, 4: 40, 5: 50, 6: 60}\n",
        "a=int(input(\"enter the value:\"))\n",
        "if a in d:\n",
        "  print(\"already exists\")\n",
        "else:\n",
        "  print(\"does not exist\")"
      ],
      "execution_count": null,
      "outputs": [
        {
          "output_type": "stream",
          "text": [
            "enter the value:3\n",
            "already exists\n"
          ],
          "name": "stdout"
        }
      ]
    },
    {
      "cell_type": "markdown",
      "metadata": {
        "id": "oQA0SY1Fyo4H"
      },
      "source": [
        "write a python script to print a dictionary where the keys are present between 1 and 15 and the values are square of keys go to the editor sample dictionary\n",
        "{1:1,2:4,3:9.4:16,5:25,6:36,7:49,8:64,9:81,10:100,11:121,12:144,13:169,14:196,15:225}"
      ]
    },
    {
      "cell_type": "code",
      "metadata": {
        "colab": {
          "base_uri": "https://localhost:8080/"
        },
        "id": "ga_8kS_h05qT",
        "outputId": "b5376084-7293-4ece-f48c-18254458e320"
      },
      "source": [
        "d={}\n",
        "for x in range(1,16):\n",
        "  d[x]=x**2\n",
        "print(d)"
      ],
      "execution_count": null,
      "outputs": [
        {
          "output_type": "stream",
          "text": [
            "{1: 1, 2: 4, 3: 9, 4: 16, 5: 25, 6: 36, 7: 49, 8: 64, 9: 81, 10: 100, 11: 121, 12: 144, 13: 169, 14: 196, 15: 225}\n"
          ],
          "name": "stdout"
        }
      ]
    },
    {
      "cell_type": "markdown",
      "metadata": {
        "id": "RTX_hmY462uu"
      },
      "source": [
        "write a python program to remove duplicates from dictionary"
      ]
    },
    {
      "cell_type": "code",
      "metadata": {
        "id": "5qxvnMld7V8I",
        "colab": {
          "base_uri": "https://localhost:8080/"
        },
        "outputId": "07be40a1-d590-4246-d838-ea2b036e716c"
      },
      "source": [
        "d1 = {'a': 1, 'b': 2, 'c': 3, 'd': 4, 'e': 5, 'f': 1}\n",
        "d2 = {}\n",
        " \n",
        "for key,value in d1.items():\n",
        "  if value not in d2.values():\n",
        "    d2[key] = value\n",
        " \n",
        "print(d1)\n",
        "print(d2)\n"
      ],
      "execution_count": 2,
      "outputs": [
        {
          "output_type": "stream",
          "text": [
            "{'a': 1, 'b': 2, 'c': 3, 'd': 4, 'e': 5, 'f': 1}\n",
            "{'a': 1, 'b': 2, 'c': 3, 'd': 4, 'e': 5}\n"
          ],
          "name": "stdout"
        }
      ]
    },
    {
      "cell_type": "markdown",
      "metadata": {
        "id": "_q1tuYuNF2a7"
      },
      "source": [
        "Write a Python program to create and display all combinations of letters, selecting each letter from a different key in a dictionary."
      ]
    },
    {
      "cell_type": "code",
      "metadata": {
        "colab": {
          "base_uri": "https://localhost:8080/"
        },
        "id": "JTw4hARrF1qz",
        "outputId": "3c915d4f-e5a0-4964-8180-a421f8aee778"
      },
      "source": [
        "import itertools      \n",
        "d ={'1':['a','b'], '2':['c','d']}\n",
        "for combo in itertools.product(*[d[k] for k in sorted(d.keys())]):\n",
        "    print(''.join(combo))"
      ],
      "execution_count": 1,
      "outputs": [
        {
          "output_type": "stream",
          "text": [
            "ac\n",
            "ad\n",
            "bc\n",
            "bd\n"
          ],
          "name": "stdout"
        }
      ]
    },
    {
      "cell_type": "markdown",
      "metadata": {
        "id": "PxHsM2OoGu9A"
      },
      "source": [
        "Write a python program to create a dictionary from a string "
      ]
    },
    {
      "cell_type": "code",
      "metadata": {
        "colab": {
          "base_uri": "https://localhost:8080/"
        },
        "id": "GjOAlqQ_HPwn",
        "outputId": "0828bb0e-e2a8-4c28-e065-0e2d4ca0fd56"
      },
      "source": [
        "from collections import defaultdict, Counter\n",
        "str1 = 'w3resource' \n",
        "my_dict = {}\n",
        "for letter in str1:\n",
        "    my_dict[letter] = my_dict.get(letter, 0) + 1\n",
        "print(my_dict)"
      ],
      "execution_count": 7,
      "outputs": [
        {
          "output_type": "stream",
          "text": [
            "{'w': 1, '3': 1, 'r': 2, 'e': 2, 's': 1, 'o': 1, 'u': 1, 'c': 1}\n"
          ],
          "name": "stdout"
        }
      ]
    },
    {
      "cell_type": "markdown",
      "metadata": {
        "id": "OxadI-h1JANp"
      },
      "source": [
        "Write a python program to sort counter by value."
      ]
    },
    {
      "cell_type": "code",
      "metadata": {
        "colab": {
          "base_uri": "https://localhost:8080/"
        },
        "id": "6y8RmK4VI9u3",
        "outputId": "3db8d1f4-485d-4002-c19f-f879cfd1bf8a"
      },
      "source": [
        "from collections import Counter\n",
        "x = Counter({'Math':81, 'Physics':83, 'Chemistry':87})\n",
        "print(x.most_common())"
      ],
      "execution_count": 8,
      "outputs": [
        {
          "output_type": "stream",
          "text": [
            "[('Chemistry', 87), ('Physics', 83), ('Math', 81)]\n"
          ],
          "name": "stdout"
        }
      ]
    }
  ]
}